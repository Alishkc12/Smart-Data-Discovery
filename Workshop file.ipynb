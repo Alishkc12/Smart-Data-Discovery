{
 "cells": [
  {
   "cell_type": "markdown",
   "id": "49135b2d",
   "metadata": {},
   "source": [
    "# Worksheet for pandas\n",
    "\n",
    "### Create 5 different python objects as following:\n",
    "*  Python list with string values. (Store it in variable data_labels_1)\n",
    "*  Python list with integer values. (Store it in variable data_values_1)\n",
    "*  A numpy array. (Store it in variable series_numpy_array_1)\n",
    "*  A python dictionary (Store it in variable dict2)\n",
    "\n",
    "\n",
    "### Create a new python series that stores the population of 5 various cities as data and name of the cities as indexes from data given below. Store it in variable cities_population.\n",
    "* indexes = ['Biratnagar', 'Kathmandu', 'Lalitpur', 'Pokhara', 'Narayangarh']\n",
    "* data = [200000, 1600000, 600000, 500000, 350000]\n",
    "### Create different python series for each question below out of the data above as follows:\n",
    "* Using python list data_values_1. What do you observe regarding the indexes?\n",
    "* Using python list data_labels_1. What do you observe regarding the datatype of the series?\n",
    "* Using data_values_1 as data values and data_labels_1 as indexes\n",
    "* Using numpy array series_numpy_array_1.\n",
    "* Using numpy array series_numpy_array_1. Set the indexes to data_labels_1.\n",
    "* Using python dictionary dict2. What do you observe regarding the indexes?\n",
    "* Fetch the indexes of the series cities_population.\n",
    "### Create a new python series that stores the population of 5 various cities as data and name of the cities as indexes from data given below. Store it in variable cities_population_2.\n",
    "* indexes = ['Bhaktapur', 'Kathmandu', 'Lalitpur', 'Pokhara', 'Butwal']\n",
    "* data = [150000, 1600000, 600000, 500000, 300000]\n",
    "\n",
    "### Perform addition on series 'cities_population' and 'cities_population_2'. What do you observe?\n",
    "\n",
    "#### Create a pandas DataFrame out of the following data. Store it in the variable df_.\n",
    "* serial_no: [1, 2, 3, 4, 5, 6, 7, 8, 9, 10] #row indexes\n",
    "* subjects : ['ENG', 'NEP', 'MAT', 'SCI', 'COM'] #column headers\n",
    "* students : ['RAM','SHYAM','GITA','HARI','SITA','SUSHILA','RAMESH','SUBODH','ANIL','RUPA']\n",
    "* marks :marks =[[57, 34, 93, 84, 54], [48, 49, 52, 89, 64], [66, 64, 75, 38, 84], [55, 47, 90, 82, 37], [45, 93, 70, 53, 76], * * [45, 63, 33, 53, 72], [68, 34, 42, 43, 84], [62, 69, 67, 50, 94], [59, 33, 51, 68, 33], [57, 91, 60, 37, 44]]\n",
    "\n",
    "#### Fetch the records of all the students who have passed in Nepali. \n",
    "#### Fetch the names of all the students who have scored a first division mark in science.\n",
    "#### Note that a score of more than or equal to 70 is First Division.  \n"
   ]
  },
  {
   "cell_type": "markdown",
   "id": "ee05e169",
   "metadata": {},
   "source": [
    "# Importing necessary packages ie pandas and numpy"
   ]
  },
  {
   "cell_type": "code",
   "execution_count": 49,
   "id": "4032dc1a",
   "metadata": {},
   "outputs": [],
   "source": [
    "import pandas as pd"
   ]
  },
  {
   "cell_type": "markdown",
   "id": "db1c73d7",
   "metadata": {},
   "source": [
    "# Reading csv file that is in current directory"
   ]
  },
  {
   "cell_type": "code",
   "execution_count": 73,
   "id": "21232be8",
   "metadata": {},
   "outputs": [
    {
     "data": {
      "text/html": [
       "<div>\n",
       "<style scoped>\n",
       "    .dataframe tbody tr th:only-of-type {\n",
       "        vertical-align: middle;\n",
       "    }\n",
       "\n",
       "    .dataframe tbody tr th {\n",
       "        vertical-align: top;\n",
       "    }\n",
       "\n",
       "    .dataframe thead th {\n",
       "        text-align: right;\n",
       "    }\n",
       "</style>\n",
       "<table border=\"1\" class=\"dataframe\">\n",
       "  <thead>\n",
       "    <tr style=\"text-align: right;\">\n",
       "      <th></th>\n",
       "      <th>school</th>\n",
       "      <th>sex</th>\n",
       "      <th>age</th>\n",
       "      <th>address</th>\n",
       "      <th>famsize</th>\n",
       "      <th>Pstatus</th>\n",
       "      <th>Medu</th>\n",
       "      <th>Fedu</th>\n",
       "      <th>Mjob</th>\n",
       "      <th>Fjob</th>\n",
       "      <th>...</th>\n",
       "      <th>famrel</th>\n",
       "      <th>freetime</th>\n",
       "      <th>goout</th>\n",
       "      <th>Dalc</th>\n",
       "      <th>Walc</th>\n",
       "      <th>health</th>\n",
       "      <th>absences</th>\n",
       "      <th>G1</th>\n",
       "      <th>G2</th>\n",
       "      <th>G3</th>\n",
       "    </tr>\n",
       "  </thead>\n",
       "  <tbody>\n",
       "    <tr>\n",
       "      <th>0</th>\n",
       "      <td>GP</td>\n",
       "      <td>F</td>\n",
       "      <td>18</td>\n",
       "      <td>U</td>\n",
       "      <td>GT3</td>\n",
       "      <td>A</td>\n",
       "      <td>higher education</td>\n",
       "      <td>higher education</td>\n",
       "      <td>at_home</td>\n",
       "      <td>teacher</td>\n",
       "      <td>...</td>\n",
       "      <td>very good</td>\n",
       "      <td>medium</td>\n",
       "      <td>high</td>\n",
       "      <td>very low</td>\n",
       "      <td>very low</td>\n",
       "      <td>good</td>\n",
       "      <td>6</td>\n",
       "      <td>5</td>\n",
       "      <td>6</td>\n",
       "      <td>6</td>\n",
       "    </tr>\n",
       "    <tr>\n",
       "      <th>1</th>\n",
       "      <td>GP</td>\n",
       "      <td>F</td>\n",
       "      <td>17</td>\n",
       "      <td>U</td>\n",
       "      <td>GT3</td>\n",
       "      <td>T</td>\n",
       "      <td>primary education (4th grade)</td>\n",
       "      <td>primary education (4th grade)</td>\n",
       "      <td>at_home</td>\n",
       "      <td>other</td>\n",
       "      <td>...</td>\n",
       "      <td>excellent</td>\n",
       "      <td>medium</td>\n",
       "      <td>medium</td>\n",
       "      <td>very low</td>\n",
       "      <td>very low</td>\n",
       "      <td>good</td>\n",
       "      <td>4</td>\n",
       "      <td>5</td>\n",
       "      <td>5</td>\n",
       "      <td>6</td>\n",
       "    </tr>\n",
       "    <tr>\n",
       "      <th>2</th>\n",
       "      <td>GP</td>\n",
       "      <td>F</td>\n",
       "      <td>15</td>\n",
       "      <td>U</td>\n",
       "      <td>LE3</td>\n",
       "      <td>T</td>\n",
       "      <td>primary education (4th grade)</td>\n",
       "      <td>primary education (4th grade)</td>\n",
       "      <td>at_home</td>\n",
       "      <td>other</td>\n",
       "      <td>...</td>\n",
       "      <td>very good</td>\n",
       "      <td>medium</td>\n",
       "      <td>low</td>\n",
       "      <td>low</td>\n",
       "      <td>medium</td>\n",
       "      <td>good</td>\n",
       "      <td>10</td>\n",
       "      <td>7</td>\n",
       "      <td>8</td>\n",
       "      <td>10</td>\n",
       "    </tr>\n",
       "    <tr>\n",
       "      <th>3</th>\n",
       "      <td>GP</td>\n",
       "      <td>F</td>\n",
       "      <td>15</td>\n",
       "      <td>U</td>\n",
       "      <td>GT3</td>\n",
       "      <td>T</td>\n",
       "      <td>higher education</td>\n",
       "      <td>5th to 9th grade</td>\n",
       "      <td>health</td>\n",
       "      <td>services</td>\n",
       "      <td>...</td>\n",
       "      <td>good</td>\n",
       "      <td>low</td>\n",
       "      <td>low</td>\n",
       "      <td>very low</td>\n",
       "      <td>very low</td>\n",
       "      <td>excellent</td>\n",
       "      <td>2</td>\n",
       "      <td>15</td>\n",
       "      <td>14</td>\n",
       "      <td>15</td>\n",
       "    </tr>\n",
       "    <tr>\n",
       "      <th>4</th>\n",
       "      <td>GP</td>\n",
       "      <td>F</td>\n",
       "      <td>16</td>\n",
       "      <td>U</td>\n",
       "      <td>GT3</td>\n",
       "      <td>T</td>\n",
       "      <td>secondary education</td>\n",
       "      <td>secondary education</td>\n",
       "      <td>other</td>\n",
       "      <td>other</td>\n",
       "      <td>...</td>\n",
       "      <td>very good</td>\n",
       "      <td>medium</td>\n",
       "      <td>low</td>\n",
       "      <td>very low</td>\n",
       "      <td>low</td>\n",
       "      <td>excellent</td>\n",
       "      <td>4</td>\n",
       "      <td>6</td>\n",
       "      <td>10</td>\n",
       "      <td>10</td>\n",
       "    </tr>\n",
       "  </tbody>\n",
       "</table>\n",
       "<p>5 rows × 33 columns</p>\n",
       "</div>"
      ],
      "text/plain": [
       "  school sex  age address famsize Pstatus                           Medu  \\\n",
       "0     GP   F   18       U     GT3       A               higher education   \n",
       "1     GP   F   17       U     GT3       T  primary education (4th grade)   \n",
       "2     GP   F   15       U     LE3       T  primary education (4th grade)   \n",
       "3     GP   F   15       U     GT3       T               higher education   \n",
       "4     GP   F   16       U     GT3       T            secondary education   \n",
       "\n",
       "                            Fedu     Mjob      Fjob  ...     famrel freetime  \\\n",
       "0               higher education  at_home   teacher  ...  very good   medium   \n",
       "1  primary education (4th grade)  at_home     other  ...  excellent   medium   \n",
       "2  primary education (4th grade)  at_home     other  ...  very good   medium   \n",
       "3               5th to 9th grade   health  services  ...       good      low   \n",
       "4            secondary education    other     other  ...  very good   medium   \n",
       "\n",
       "    goout      Dalc      Walc     health absences  G1  G2  G3  \n",
       "0    high  very low  very low       good        6   5   6   6  \n",
       "1  medium  very low  very low       good        4   5   5   6  \n",
       "2     low       low    medium       good       10   7   8  10  \n",
       "3     low  very low  very low  excellent        2  15  14  15  \n",
       "4     low  very low       low  excellent        4   6  10  10  \n",
       "\n",
       "[5 rows x 33 columns]"
      ]
     },
     "execution_count": 73,
     "metadata": {},
     "output_type": "execute_result"
    }
   ],
   "source": [
    "a=pd.read_csv(\"student.csv\")\n",
    "a.head()       #displays top 5 record that is present in file student.csv  similary tail can be used to extract bottom record\n",
    "#a.head(10)  --->  10 RECORD FROM TOP       a.tail(7)  10 RECORD FROM bottom"
   ]
  },
  {
   "cell_type": "code",
   "execution_count": 75,
   "id": "d207a9bb",
   "metadata": {},
   "outputs": [
    {
     "data": {
      "text/plain": [
       "33"
      ]
     },
     "execution_count": 75,
     "metadata": {},
     "output_type": "execute_result"
    }
   ],
   "source": [
    "len(a.columns)   #total number of columns"
   ]
  },
  {
   "cell_type": "code",
   "execution_count": 85,
   "id": "36051a1f",
   "metadata": {},
   "outputs": [
    {
     "name": "stderr",
     "output_type": "stream",
     "text": [
      "C:\\Users\\LEGION\\AppData\\Local\\Temp\\ipykernel_23004\\20926728.py:2: SettingWithCopyWarning: \n",
      "A value is trying to be set on a copy of a slice from a DataFrame\n",
      "\n",
      "See the caveats in the documentation: https://pandas.pydata.org/pandas-docs/stable/user_guide/indexing.html#returning-a-view-versus-a-copy\n",
      "  a['address'][0]= numpy.NaN                    #assigning Null value to some data\n",
      "C:\\Users\\LEGION\\AppData\\Local\\Temp\\ipykernel_23004\\20926728.py:3: SettingWithCopyWarning: \n",
      "A value is trying to be set on a copy of a slice from a DataFrame\n",
      "\n",
      "See the caveats in the documentation: https://pandas.pydata.org/pandas-docs/stable/user_guide/indexing.html#returning-a-view-versus-a-copy\n",
      "  a['Pstatus'][[1,2,3]]=numpy.NaN               #assigning MULTIPLE Null value to mULTIPLE data\n"
     ]
    }
   ],
   "source": [
    "import numpy\n",
    "a['address'][0]= numpy.NaN                    #assigning Null value to some data\n",
    "a['Pstatus'][[1,2,3]]=numpy.NaN               #assigning MULTIPLE Null value to mULTIPLE data"
   ]
  },
  {
   "cell_type": "code",
   "execution_count": 88,
   "id": "309880d8",
   "metadata": {},
   "outputs": [
    {
     "data": {
      "text/plain": [
       "1    NaN\n",
       "2    NaN\n",
       "3    NaN\n",
       "Name: Pstatus, dtype: object"
      ]
     },
     "execution_count": 88,
     "metadata": {},
     "output_type": "execute_result"
    }
   ],
   "source": [
    "#checking if we have sucessfully entered null value or not\n",
    "a['address'][0]\n",
    "a['Pstatus'][[1,2,3]] "
   ]
  },
  {
   "cell_type": "code",
   "execution_count": 89,
   "id": "1803c680",
   "metadata": {},
   "outputs": [
    {
     "data": {
      "text/plain": [
       "school        0\n",
       "sex           0\n",
       "age           0\n",
       "address       4\n",
       "famsize       0\n",
       "Pstatus       3\n",
       "Medu          0\n",
       "Fedu          0\n",
       "Mjob          0\n",
       "Fjob          0\n",
       "reason        0\n",
       "guardian      0\n",
       "traveltime    0\n",
       "studytime     0\n",
       "failures      0\n",
       "schoolsup     0\n",
       "famsup        0\n",
       "paid          0\n",
       "activities    0\n",
       "nursery       0\n",
       "higher        0\n",
       "internet      0\n",
       "romantic      0\n",
       "famrel        0\n",
       "freetime      0\n",
       "goout         0\n",
       "Dalc          0\n",
       "Walc          0\n",
       "health        0\n",
       "absences      0\n",
       "G1            0\n",
       "G2            0\n",
       "G3            0\n",
       "dtype: int64"
      ]
     },
     "execution_count": 89,
     "metadata": {},
     "output_type": "execute_result"
    }
   ],
   "source": [
    "a.isnull().sum()                   #counting  presence of null value in each column"
   ]
  },
  {
   "cell_type": "code",
   "execution_count": 66,
   "id": "a5120601",
   "metadata": {},
   "outputs": [
    {
     "data": {
      "text/html": [
       "<div>\n",
       "<style scoped>\n",
       "    .dataframe tbody tr th:only-of-type {\n",
       "        vertical-align: middle;\n",
       "    }\n",
       "\n",
       "    .dataframe tbody tr th {\n",
       "        vertical-align: top;\n",
       "    }\n",
       "\n",
       "    .dataframe thead th {\n",
       "        text-align: right;\n",
       "    }\n",
       "</style>\n",
       "<table border=\"1\" class=\"dataframe\">\n",
       "  <thead>\n",
       "    <tr style=\"text-align: right;\">\n",
       "      <th></th>\n",
       "      <th>age</th>\n",
       "      <th>failures</th>\n",
       "      <th>absences</th>\n",
       "      <th>G1</th>\n",
       "      <th>G2</th>\n",
       "      <th>G3</th>\n",
       "    </tr>\n",
       "  </thead>\n",
       "  <tbody>\n",
       "    <tr>\n",
       "      <th>count</th>\n",
       "      <td>395.000000</td>\n",
       "      <td>395.000000</td>\n",
       "      <td>395.000000</td>\n",
       "      <td>395.000000</td>\n",
       "      <td>395.000000</td>\n",
       "      <td>395.000000</td>\n",
       "    </tr>\n",
       "    <tr>\n",
       "      <th>mean</th>\n",
       "      <td>16.696203</td>\n",
       "      <td>0.334177</td>\n",
       "      <td>5.708861</td>\n",
       "      <td>10.908861</td>\n",
       "      <td>10.713924</td>\n",
       "      <td>10.415190</td>\n",
       "    </tr>\n",
       "    <tr>\n",
       "      <th>std</th>\n",
       "      <td>1.276043</td>\n",
       "      <td>0.743651</td>\n",
       "      <td>8.003096</td>\n",
       "      <td>3.319195</td>\n",
       "      <td>3.761505</td>\n",
       "      <td>4.581443</td>\n",
       "    </tr>\n",
       "    <tr>\n",
       "      <th>min</th>\n",
       "      <td>15.000000</td>\n",
       "      <td>0.000000</td>\n",
       "      <td>0.000000</td>\n",
       "      <td>3.000000</td>\n",
       "      <td>0.000000</td>\n",
       "      <td>0.000000</td>\n",
       "    </tr>\n",
       "    <tr>\n",
       "      <th>25%</th>\n",
       "      <td>16.000000</td>\n",
       "      <td>0.000000</td>\n",
       "      <td>0.000000</td>\n",
       "      <td>8.000000</td>\n",
       "      <td>9.000000</td>\n",
       "      <td>8.000000</td>\n",
       "    </tr>\n",
       "    <tr>\n",
       "      <th>50%</th>\n",
       "      <td>17.000000</td>\n",
       "      <td>0.000000</td>\n",
       "      <td>4.000000</td>\n",
       "      <td>11.000000</td>\n",
       "      <td>11.000000</td>\n",
       "      <td>11.000000</td>\n",
       "    </tr>\n",
       "    <tr>\n",
       "      <th>75%</th>\n",
       "      <td>18.000000</td>\n",
       "      <td>0.000000</td>\n",
       "      <td>8.000000</td>\n",
       "      <td>13.000000</td>\n",
       "      <td>13.000000</td>\n",
       "      <td>14.000000</td>\n",
       "    </tr>\n",
       "    <tr>\n",
       "      <th>max</th>\n",
       "      <td>22.000000</td>\n",
       "      <td>3.000000</td>\n",
       "      <td>75.000000</td>\n",
       "      <td>19.000000</td>\n",
       "      <td>19.000000</td>\n",
       "      <td>20.000000</td>\n",
       "    </tr>\n",
       "  </tbody>\n",
       "</table>\n",
       "</div>"
      ],
      "text/plain": [
       "              age    failures    absences          G1          G2          G3\n",
       "count  395.000000  395.000000  395.000000  395.000000  395.000000  395.000000\n",
       "mean    16.696203    0.334177    5.708861   10.908861   10.713924   10.415190\n",
       "std      1.276043    0.743651    8.003096    3.319195    3.761505    4.581443\n",
       "min     15.000000    0.000000    0.000000    3.000000    0.000000    0.000000\n",
       "25%     16.000000    0.000000    0.000000    8.000000    9.000000    8.000000\n",
       "50%     17.000000    0.000000    4.000000   11.000000   11.000000   11.000000\n",
       "75%     18.000000    0.000000    8.000000   13.000000   13.000000   14.000000\n",
       "max     22.000000    3.000000   75.000000   19.000000   19.000000   20.000000"
      ]
     },
     "execution_count": 66,
     "metadata": {},
     "output_type": "execute_result"
    }
   ],
   "source": [
    "a.describe()                              "
   ]
  },
  {
   "cell_type": "code",
   "execution_count": 94,
   "id": "76aa8ce2",
   "metadata": {},
   "outputs": [],
   "source": [
    "rows_with_nan = a[a.isnull().any(axis=1)]         #checking row with null value\n",
    "rows_with_nan"
   ]
  },
  {
   "cell_type": "code",
   "execution_count": 99,
   "id": "d910e12a",
   "metadata": {},
   "outputs": [
    {
     "data": {
      "text/plain": [
       "4"
      ]
     },
     "execution_count": 99,
     "metadata": {},
     "output_type": "execute_result"
    }
   ],
   "source": [
    "len(rows_with_nan)         #counting number of column"
   ]
  },
  {
   "cell_type": "code",
   "execution_count": 114,
   "id": "3a441955",
   "metadata": {},
   "outputs": [
    {
     "name": "stdout",
     "output_type": "stream",
     "text": [
      "16.696202531645568\n",
      "10.90886075949367\n"
     ]
    }
   ],
   "source": [
    "#as all attribute(column) has not numeric data only specific field has numeric data \n",
    "#so we have only calculated mean of some specific numeric field\n",
    "print(a['age'].mean())\n",
    "print(a['G1'].mean())"
   ]
  },
  {
   "cell_type": "code",
   "execution_count": 105,
   "id": "b45c70de",
   "metadata": {},
   "outputs": [],
   "source": [
    "b=pd.read_csv(\"sales_data.csv\")    "
   ]
  },
  {
   "cell_type": "code",
   "execution_count": 106,
   "id": "bd9a3314",
   "metadata": {},
   "outputs": [
    {
     "data": {
      "text/html": [
       "<div>\n",
       "<style scoped>\n",
       "    .dataframe tbody tr th:only-of-type {\n",
       "        vertical-align: middle;\n",
       "    }\n",
       "\n",
       "    .dataframe tbody tr th {\n",
       "        vertical-align: top;\n",
       "    }\n",
       "\n",
       "    .dataframe thead th {\n",
       "        text-align: right;\n",
       "    }\n",
       "</style>\n",
       "<table border=\"1\" class=\"dataframe\">\n",
       "  <thead>\n",
       "    <tr style=\"text-align: right;\">\n",
       "      <th></th>\n",
       "      <th>day</th>\n",
       "      <th>burger</th>\n",
       "      <th>pizza</th>\n",
       "      <th>coke</th>\n",
       "      <th>fries</th>\n",
       "      <th>cake</th>\n",
       "    </tr>\n",
       "  </thead>\n",
       "  <tbody>\n",
       "    <tr>\n",
       "      <th>0</th>\n",
       "      <td>Sunday</td>\n",
       "      <td>59</td>\n",
       "      <td>33</td>\n",
       "      <td>102</td>\n",
       "      <td>80</td>\n",
       "      <td>25</td>\n",
       "    </tr>\n",
       "    <tr>\n",
       "      <th>1</th>\n",
       "      <td>Monday</td>\n",
       "      <td>47</td>\n",
       "      <td>20</td>\n",
       "      <td>123</td>\n",
       "      <td>100</td>\n",
       "      <td>27</td>\n",
       "    </tr>\n",
       "    <tr>\n",
       "      <th>2</th>\n",
       "      <td>Tuesday</td>\n",
       "      <td>65</td>\n",
       "      <td>25</td>\n",
       "      <td>128</td>\n",
       "      <td>97</td>\n",
       "      <td>21</td>\n",
       "    </tr>\n",
       "    <tr>\n",
       "      <th>3</th>\n",
       "      <td>Wednesday</td>\n",
       "      <td>67</td>\n",
       "      <td>35</td>\n",
       "      <td>124</td>\n",
       "      <td>83</td>\n",
       "      <td>21</td>\n",
       "    </tr>\n",
       "    <tr>\n",
       "      <th>4</th>\n",
       "      <td>Thursday</td>\n",
       "      <td>69</td>\n",
       "      <td>22</td>\n",
       "      <td>123</td>\n",
       "      <td>87</td>\n",
       "      <td>30</td>\n",
       "    </tr>\n",
       "    <tr>\n",
       "      <th>5</th>\n",
       "      <td>Friday</td>\n",
       "      <td>89</td>\n",
       "      <td>28</td>\n",
       "      <td>93</td>\n",
       "      <td>98</td>\n",
       "      <td>20</td>\n",
       "    </tr>\n",
       "    <tr>\n",
       "      <th>6</th>\n",
       "      <td>Saturday</td>\n",
       "      <td>57</td>\n",
       "      <td>24</td>\n",
       "      <td>145</td>\n",
       "      <td>83</td>\n",
       "      <td>22</td>\n",
       "    </tr>\n",
       "    <tr>\n",
       "      <th>7</th>\n",
       "      <td>Sunday</td>\n",
       "      <td>81</td>\n",
       "      <td>22</td>\n",
       "      <td>129</td>\n",
       "      <td>90</td>\n",
       "      <td>25</td>\n",
       "    </tr>\n",
       "    <tr>\n",
       "      <th>8</th>\n",
       "      <td>Monday</td>\n",
       "      <td>72</td>\n",
       "      <td>30</td>\n",
       "      <td>126</td>\n",
       "      <td>98</td>\n",
       "      <td>20</td>\n",
       "    </tr>\n",
       "    <tr>\n",
       "      <th>9</th>\n",
       "      <td>Tuesday</td>\n",
       "      <td>83</td>\n",
       "      <td>34</td>\n",
       "      <td>101</td>\n",
       "      <td>87</td>\n",
       "      <td>29</td>\n",
       "    </tr>\n",
       "    <tr>\n",
       "      <th>10</th>\n",
       "      <td>Wednesday</td>\n",
       "      <td>45</td>\n",
       "      <td>37</td>\n",
       "      <td>109</td>\n",
       "      <td>100</td>\n",
       "      <td>27</td>\n",
       "    </tr>\n",
       "    <tr>\n",
       "      <th>11</th>\n",
       "      <td>Thursday</td>\n",
       "      <td>64</td>\n",
       "      <td>21</td>\n",
       "      <td>100</td>\n",
       "      <td>91</td>\n",
       "      <td>29</td>\n",
       "    </tr>\n",
       "    <tr>\n",
       "      <th>12</th>\n",
       "      <td>Friday</td>\n",
       "      <td>65</td>\n",
       "      <td>33</td>\n",
       "      <td>118</td>\n",
       "      <td>85</td>\n",
       "      <td>21</td>\n",
       "    </tr>\n",
       "    <tr>\n",
       "      <th>13</th>\n",
       "      <td>Saturday</td>\n",
       "      <td>54</td>\n",
       "      <td>25</td>\n",
       "      <td>150</td>\n",
       "      <td>87</td>\n",
       "      <td>27</td>\n",
       "    </tr>\n",
       "  </tbody>\n",
       "</table>\n",
       "</div>"
      ],
      "text/plain": [
       "          day  burger  pizza  coke  fries  cake\n",
       "0      Sunday      59     33   102     80    25\n",
       "1      Monday      47     20   123    100    27\n",
       "2     Tuesday      65     25   128     97    21\n",
       "3   Wednesday      67     35   124     83    21\n",
       "4    Thursday      69     22   123     87    30\n",
       "5      Friday      89     28    93     98    20\n",
       "6    Saturday      57     24   145     83    22\n",
       "7      Sunday      81     22   129     90    25\n",
       "8      Monday      72     30   126     98    20\n",
       "9     Tuesday      83     34   101     87    29\n",
       "10  Wednesday      45     37   109    100    27\n",
       "11   Thursday      64     21   100     91    29\n",
       "12     Friday      65     33   118     85    21\n",
       "13   Saturday      54     25   150     87    27"
      ]
     },
     "execution_count": 106,
     "metadata": {},
     "output_type": "execute_result"
    }
   ],
   "source": [
    "b"
   ]
  },
  {
   "cell_type": "code",
   "execution_count": 110,
   "id": "6de551df",
   "metadata": {},
   "outputs": [],
   "source": [
    "b.drop(columns='day',inplace=True) #now we have removed one field that is only one non numeric field(colum)"
   ]
  },
  {
   "cell_type": "code",
   "execution_count": 111,
   "id": "b67cc390",
   "metadata": {},
   "outputs": [
    {
     "data": {
      "text/html": [
       "<div>\n",
       "<style scoped>\n",
       "    .dataframe tbody tr th:only-of-type {\n",
       "        vertical-align: middle;\n",
       "    }\n",
       "\n",
       "    .dataframe tbody tr th {\n",
       "        vertical-align: top;\n",
       "    }\n",
       "\n",
       "    .dataframe thead th {\n",
       "        text-align: right;\n",
       "    }\n",
       "</style>\n",
       "<table border=\"1\" class=\"dataframe\">\n",
       "  <thead>\n",
       "    <tr style=\"text-align: right;\">\n",
       "      <th></th>\n",
       "      <th>burger</th>\n",
       "      <th>pizza</th>\n",
       "      <th>coke</th>\n",
       "      <th>fries</th>\n",
       "      <th>cake</th>\n",
       "    </tr>\n",
       "  </thead>\n",
       "  <tbody>\n",
       "    <tr>\n",
       "      <th>0</th>\n",
       "      <td>59</td>\n",
       "      <td>33</td>\n",
       "      <td>102</td>\n",
       "      <td>80</td>\n",
       "      <td>25</td>\n",
       "    </tr>\n",
       "    <tr>\n",
       "      <th>1</th>\n",
       "      <td>47</td>\n",
       "      <td>20</td>\n",
       "      <td>123</td>\n",
       "      <td>100</td>\n",
       "      <td>27</td>\n",
       "    </tr>\n",
       "    <tr>\n",
       "      <th>2</th>\n",
       "      <td>65</td>\n",
       "      <td>25</td>\n",
       "      <td>128</td>\n",
       "      <td>97</td>\n",
       "      <td>21</td>\n",
       "    </tr>\n",
       "    <tr>\n",
       "      <th>3</th>\n",
       "      <td>67</td>\n",
       "      <td>35</td>\n",
       "      <td>124</td>\n",
       "      <td>83</td>\n",
       "      <td>21</td>\n",
       "    </tr>\n",
       "    <tr>\n",
       "      <th>4</th>\n",
       "      <td>69</td>\n",
       "      <td>22</td>\n",
       "      <td>123</td>\n",
       "      <td>87</td>\n",
       "      <td>30</td>\n",
       "    </tr>\n",
       "    <tr>\n",
       "      <th>5</th>\n",
       "      <td>89</td>\n",
       "      <td>28</td>\n",
       "      <td>93</td>\n",
       "      <td>98</td>\n",
       "      <td>20</td>\n",
       "    </tr>\n",
       "    <tr>\n",
       "      <th>6</th>\n",
       "      <td>57</td>\n",
       "      <td>24</td>\n",
       "      <td>145</td>\n",
       "      <td>83</td>\n",
       "      <td>22</td>\n",
       "    </tr>\n",
       "    <tr>\n",
       "      <th>7</th>\n",
       "      <td>81</td>\n",
       "      <td>22</td>\n",
       "      <td>129</td>\n",
       "      <td>90</td>\n",
       "      <td>25</td>\n",
       "    </tr>\n",
       "    <tr>\n",
       "      <th>8</th>\n",
       "      <td>72</td>\n",
       "      <td>30</td>\n",
       "      <td>126</td>\n",
       "      <td>98</td>\n",
       "      <td>20</td>\n",
       "    </tr>\n",
       "    <tr>\n",
       "      <th>9</th>\n",
       "      <td>83</td>\n",
       "      <td>34</td>\n",
       "      <td>101</td>\n",
       "      <td>87</td>\n",
       "      <td>29</td>\n",
       "    </tr>\n",
       "    <tr>\n",
       "      <th>10</th>\n",
       "      <td>45</td>\n",
       "      <td>37</td>\n",
       "      <td>109</td>\n",
       "      <td>100</td>\n",
       "      <td>27</td>\n",
       "    </tr>\n",
       "    <tr>\n",
       "      <th>11</th>\n",
       "      <td>64</td>\n",
       "      <td>21</td>\n",
       "      <td>100</td>\n",
       "      <td>91</td>\n",
       "      <td>29</td>\n",
       "    </tr>\n",
       "    <tr>\n",
       "      <th>12</th>\n",
       "      <td>65</td>\n",
       "      <td>33</td>\n",
       "      <td>118</td>\n",
       "      <td>85</td>\n",
       "      <td>21</td>\n",
       "    </tr>\n",
       "    <tr>\n",
       "      <th>13</th>\n",
       "      <td>54</td>\n",
       "      <td>25</td>\n",
       "      <td>150</td>\n",
       "      <td>87</td>\n",
       "      <td>27</td>\n",
       "    </tr>\n",
       "  </tbody>\n",
       "</table>\n",
       "</div>"
      ],
      "text/plain": [
       "    burger  pizza  coke  fries  cake\n",
       "0       59     33   102     80    25\n",
       "1       47     20   123    100    27\n",
       "2       65     25   128     97    21\n",
       "3       67     35   124     83    21\n",
       "4       69     22   123     87    30\n",
       "5       89     28    93     98    20\n",
       "6       57     24   145     83    22\n",
       "7       81     22   129     90    25\n",
       "8       72     30   126     98    20\n",
       "9       83     34   101     87    29\n",
       "10      45     37   109    100    27\n",
       "11      64     21   100     91    29\n",
       "12      65     33   118     85    21\n",
       "13      54     25   150     87    27"
      ]
     },
     "execution_count": 111,
     "metadata": {},
     "output_type": "execute_result"
    }
   ],
   "source": [
    "b"
   ]
  },
  {
   "cell_type": "code",
   "execution_count": 112,
   "id": "dd9f5124",
   "metadata": {},
   "outputs": [
    {
     "data": {
      "text/plain": [
       "burger     65.500000\n",
       "pizza      27.785714\n",
       "coke      119.357143\n",
       "fries      90.428571\n",
       "cake       24.571429\n",
       "dtype: float64"
      ]
     },
     "execution_count": 112,
     "metadata": {},
     "output_type": "execute_result"
    }
   ],
   "source": [
    "b.mean()   #now combinedly  we can calculated mean at once for all field"
   ]
  },
  {
   "cell_type": "code",
   "execution_count": 115,
   "id": "d2405402",
   "metadata": {},
   "outputs": [
    {
     "data": {
      "text/html": [
       "<div>\n",
       "<style scoped>\n",
       "    .dataframe tbody tr th:only-of-type {\n",
       "        vertical-align: middle;\n",
       "    }\n",
       "\n",
       "    .dataframe tbody tr th {\n",
       "        vertical-align: top;\n",
       "    }\n",
       "\n",
       "    .dataframe thead th {\n",
       "        text-align: right;\n",
       "    }\n",
       "</style>\n",
       "<table border=\"1\" class=\"dataframe\">\n",
       "  <thead>\n",
       "    <tr style=\"text-align: right;\">\n",
       "      <th></th>\n",
       "      <th>burger</th>\n",
       "      <th>pizza</th>\n",
       "      <th>coke</th>\n",
       "      <th>fries</th>\n",
       "      <th>cake</th>\n",
       "    </tr>\n",
       "  </thead>\n",
       "  <tbody>\n",
       "    <tr>\n",
       "      <th>burger</th>\n",
       "      <td>1.000000</td>\n",
       "      <td>0.024109</td>\n",
       "      <td>-0.359896</td>\n",
       "      <td>-0.057545</td>\n",
       "      <td>-0.238129</td>\n",
       "    </tr>\n",
       "    <tr>\n",
       "      <th>pizza</th>\n",
       "      <td>0.024109</td>\n",
       "      <td>1.000000</td>\n",
       "      <td>-0.350633</td>\n",
       "      <td>-0.167520</td>\n",
       "      <td>-0.265794</td>\n",
       "    </tr>\n",
       "    <tr>\n",
       "      <th>coke</th>\n",
       "      <td>-0.359896</td>\n",
       "      <td>-0.350633</td>\n",
       "      <td>1.000000</td>\n",
       "      <td>-0.173612</td>\n",
       "      <td>-0.138893</td>\n",
       "    </tr>\n",
       "    <tr>\n",
       "      <th>fries</th>\n",
       "      <td>-0.057545</td>\n",
       "      <td>-0.167520</td>\n",
       "      <td>-0.173612</td>\n",
       "      <td>1.000000</td>\n",
       "      <td>-0.077210</td>\n",
       "    </tr>\n",
       "    <tr>\n",
       "      <th>cake</th>\n",
       "      <td>-0.238129</td>\n",
       "      <td>-0.265794</td>\n",
       "      <td>-0.138893</td>\n",
       "      <td>-0.077210</td>\n",
       "      <td>1.000000</td>\n",
       "    </tr>\n",
       "  </tbody>\n",
       "</table>\n",
       "</div>"
      ],
      "text/plain": [
       "          burger     pizza      coke     fries      cake\n",
       "burger  1.000000  0.024109 -0.359896 -0.057545 -0.238129\n",
       "pizza   0.024109  1.000000 -0.350633 -0.167520 -0.265794\n",
       "coke   -0.359896 -0.350633  1.000000 -0.173612 -0.138893\n",
       "fries  -0.057545 -0.167520 -0.173612  1.000000 -0.077210\n",
       "cake   -0.238129 -0.265794 -0.138893 -0.077210  1.000000"
      ]
     },
     "execution_count": 115,
     "metadata": {},
     "output_type": "execute_result"
    }
   ],
   "source": [
    "b.corr()    #correlation"
   ]
  },
  {
   "cell_type": "code",
   "execution_count": 116,
   "id": "424cc2c7",
   "metadata": {},
   "outputs": [
    {
     "data": {
      "text/plain": [
       "burger   -0.421825\n",
       "pizza    -1.551331\n",
       "coke     -0.514802\n",
       "fries    -1.492063\n",
       "cake     -1.676700\n",
       "dtype: float64"
      ]
     },
     "execution_count": 116,
     "metadata": {},
     "output_type": "execute_result"
    }
   ],
   "source": [
    "b.kurtosis()"
   ]
  },
  {
   "cell_type": "code",
   "execution_count": null,
   "id": "54078ce8",
   "metadata": {},
   "outputs": [],
   "source": []
  },
  {
   "cell_type": "code",
   "execution_count": null,
   "id": "a84c5871",
   "metadata": {},
   "outputs": [],
   "source": []
  },
  {
   "cell_type": "code",
   "execution_count": null,
   "id": "5b1af267",
   "metadata": {},
   "outputs": [],
   "source": []
  },
  {
   "cell_type": "markdown",
   "id": "7ff9fe89",
   "metadata": {},
   "source": [
    "Create 5 different python objects as following:\n",
    "Python list with string values. (Store it in variable data_labels_1)\n",
    "Python list with integer values. (Store it in variable data_values_1)\n",
    "A numpy array. (Store it in variable series_numpy_array_1)\n",
    "A python dictionary (Store it in variable dict2)\n"
   ]
  },
  {
   "cell_type": "code",
   "execution_count": 119,
   "id": "181753ab",
   "metadata": {},
   "outputs": [
    {
     "name": "stdout",
     "output_type": "stream",
     "text": [
      "['Monday', 'Tuesday', 'Wednesday', 'Thursday', 'Friday']\n",
      "[23, 45, 12, 34, 56]\n",
      "[10 20 30 40 50]\n",
      "{'name': 'Alice', 'age': 30, 'city': 'New York'}\n"
     ]
    }
   ],
   "source": [
    "import numpy as np\n",
    "\n",
    "# Creating a Python list with string values\n",
    "data_labels_1 = [\"Monday\", \"Tuesday\", \"Wednesday\", \"Thursday\", \"Friday\"]\n",
    "\n",
    "# Creating a Python list with integer values\n",
    "data_values_1 = [23, 45, 12, 34, 56]\n",
    "\n",
    "# Creating a numpy array\n",
    "series_numpy_array_1 = np.array([10, 20, 30, 40, 50])\n",
    "\n",
    "# Creating a Python dictionary\n",
    "dict2 = {\"name\": \"Alice\", \"age\": 30, \"city\": \"New York\"}\n",
    "\n",
    "\n",
    "print(data_labels_1)\n",
    "print(data_values_1)\n",
    "print(series_numpy_array_1)\n",
    "print(dict2)"
   ]
  },
  {
   "cell_type": "markdown",
   "id": "7ad986fa",
   "metadata": {},
   "source": [
    "* Create a new python series that stores the population of 5 various cities as data and name of the cities as indexes from data given below. Store it in variable cities_population.\n",
    "##### indexes = ['Biratnagar', 'Kathmandu', 'Lalitpur', 'Pokhara', 'Narayangarh']\n",
    "##### data = [200000, 1600000, 600000, 500000, 350000]\n"
   ]
  },
  {
   "cell_type": "code",
   "execution_count": 120,
   "id": "8df1e661",
   "metadata": {},
   "outputs": [
    {
     "name": "stdout",
     "output_type": "stream",
     "text": [
      "Biratnagar      200000\n",
      "Kathmandu      1600000\n",
      "Lalitpur        600000\n",
      "Pokhara         500000\n",
      "Narayangarh     350000\n",
      "dtype: int64\n"
     ]
    }
   ],
   "source": [
    "import pandas as pd\n",
    "\n",
    "indexes = ['Biratnagar', 'Kathmandu', 'Lalitpur', 'Pokhara', 'Narayangarh']\n",
    "data = [200000, 1600000, 600000, 500000, 350000]\n",
    "\n",
    "# Creating the series with cities as indexes and populations as data\n",
    "cities_population = pd.Series(data, index=indexes)\n",
    "\n",
    "print(cities_population)"
   ]
  },
  {
   "cell_type": "markdown",
   "id": "2db1b71c",
   "metadata": {},
   "source": [
    "* Create different python series for each question below out of the data above as follows:\n",
    "* Using python list data_values_1. What do you observe regarding the indexes?\n",
    "* Using python list data_labels_1. What do you observe regarding the datatype of the series?\n",
    "* Using data_values_1 as data values and data_labels_1 as indexes\n",
    "* Using numpy array series_numpy_array_1.\n",
    "* Using numpy array series_numpy_array_1. Set the indexes to data_labels_1.\n",
    "* Using python dictionary dict2. What do you observe regarding the indexes?\n"
   ]
  },
  {
   "cell_type": "code",
   "execution_count": 121,
   "id": "4d892d1f",
   "metadata": {},
   "outputs": [
    {
     "name": "stdout",
     "output_type": "stream",
     "text": [
      "0    23\n",
      "1    45\n",
      "2    12\n",
      "3    34\n",
      "4    56\n",
      "dtype: int64\n"
     ]
    }
   ],
   "source": [
    "data_values_1 = [23, 45, 12, 34, 56]\n",
    "series_1 = pd.Series(data_values_1)\n",
    "print(series_1)"
   ]
  },
  {
   "cell_type": "code",
   "execution_count": 122,
   "id": "523d0c21",
   "metadata": {},
   "outputs": [
    {
     "name": "stdout",
     "output_type": "stream",
     "text": [
      "0       Monday\n",
      "1      Tuesday\n",
      "2    Wednesday\n",
      "3     Thursday\n",
      "4       Friday\n",
      "dtype: object\n"
     ]
    }
   ],
   "source": [
    "data_labels_1 = [\"Monday\", \"Tuesday\", \"Wednesday\", \"Thursday\", \"Friday\"]\n",
    "series_2 = pd.Series(data_labels_1)\n",
    "print(series_2)"
   ]
  },
  {
   "cell_type": "code",
   "execution_count": 123,
   "id": "dd228af2",
   "metadata": {},
   "outputs": [
    {
     "name": "stdout",
     "output_type": "stream",
     "text": [
      "Monday       23\n",
      "Tuesday      45\n",
      "Wednesday    12\n",
      "Thursday     34\n",
      "Friday       56\n",
      "dtype: int64\n"
     ]
    }
   ],
   "source": [
    "series_3 = pd.Series(data_values_1, index=data_labels_1)\n",
    "print(series_3)"
   ]
  },
  {
   "cell_type": "code",
   "execution_count": 124,
   "id": "e9ac1730",
   "metadata": {},
   "outputs": [
    {
     "name": "stdout",
     "output_type": "stream",
     "text": [
      "0    10\n",
      "1    20\n",
      "2    30\n",
      "3    40\n",
      "4    50\n",
      "dtype: int32\n"
     ]
    }
   ],
   "source": [
    "import numpy as np\n",
    "\n",
    "series_numpy_array_1 = np.array([10, 20, 30, 40, 50])\n",
    "series_4 = pd.Series(series_numpy_array_1)\n",
    "print(series_4)"
   ]
  },
  {
   "cell_type": "code",
   "execution_count": 125,
   "id": "113d4d9d",
   "metadata": {},
   "outputs": [
    {
     "name": "stdout",
     "output_type": "stream",
     "text": [
      "Monday       10\n",
      "Tuesday      20\n",
      "Wednesday    30\n",
      "Thursday     40\n",
      "Friday       50\n",
      "dtype: int32\n"
     ]
    }
   ],
   "source": [
    "series_5 = pd.Series(series_numpy_array_1, index=data_labels_1)\n",
    "print(series_5)"
   ]
  },
  {
   "cell_type": "code",
   "execution_count": 126,
   "id": "ca8efd3c",
   "metadata": {},
   "outputs": [
    {
     "name": "stdout",
     "output_type": "stream",
     "text": [
      "name       Alice\n",
      "age           30\n",
      "city    New York\n",
      "dtype: object\n"
     ]
    }
   ],
   "source": [
    "dict2 = {\"name\": \"Alice\", \"age\": 30, \"city\": \"New York\"}\n",
    "series_6 = pd.Series(dict2)\n",
    "print(series_6)"
   ]
  },
  {
   "cell_type": "code",
   "execution_count": 127,
   "id": "c9db0985",
   "metadata": {},
   "outputs": [
    {
     "data": {
      "text/plain": [
       "Index(['Biratnagar', 'Kathmandu', 'Lalitpur', 'Pokhara', 'Narayangarh'], dtype='object')"
      ]
     },
     "execution_count": 127,
     "metadata": {},
     "output_type": "execute_result"
    }
   ],
   "source": [
    "cities_population.index"
   ]
  },
  {
   "cell_type": "markdown",
   "id": "c8d62aa9",
   "metadata": {},
   "source": [
    "Create a new python series that stores the population of 5 various cities as data and name of the cities as indexes from data given below. Store it in variable cities_population_2.\n",
    "indexes = ['Bhaktapur', 'Kathmandu', 'Lalitpur', 'Pokhara', 'Butwal']\n",
    "data = [150000, 1600000, 600000, 500000, 300000]\n"
   ]
  },
  {
   "cell_type": "code",
   "execution_count": 129,
   "id": "486c0cdc",
   "metadata": {},
   "outputs": [
    {
     "name": "stdout",
     "output_type": "stream",
     "text": [
      "Bhaktapur     150000\n",
      "Kathmandu    1600000\n",
      "Lalitpur      600000\n",
      "Pokhara       500000\n",
      "Butwal        300000\n",
      "dtype: int64\n"
     ]
    }
   ],
   "source": [
    "import pandas as pd\n",
    "\n",
    "indexes = ['Bhaktapur', 'Kathmandu', 'Lalitpur', 'Pokhara', 'Butwal']\n",
    "data = [150000, 1600000, 600000, 500000, 300000]\n",
    "\n",
    "# Creating the series with city names as indexes and their populations as data\n",
    "cities_population_2 = pd.Series(data, index=indexes)\n",
    "\n",
    "print(cities_population_2)"
   ]
  },
  {
   "cell_type": "markdown",
   "id": "0b6537db",
   "metadata": {},
   "source": [
    "Perform addition on series 'cities_population' and 'cities_population_2'. What do you observe?"
   ]
  },
  {
   "cell_type": "code",
   "execution_count": 130,
   "id": "cdd564cc",
   "metadata": {},
   "outputs": [
    {
     "data": {
      "text/plain": [
       "Bhaktapur            NaN\n",
       "Biratnagar           NaN\n",
       "Butwal               NaN\n",
       "Kathmandu      3200000.0\n",
       "Lalitpur       1200000.0\n",
       "Narayangarh          NaN\n",
       "Pokhara        1000000.0\n",
       "dtype: float64"
      ]
     },
     "execution_count": 130,
     "metadata": {},
     "output_type": "execute_result"
    }
   ],
   "source": [
    "cities_population+cities_population_2"
   ]
  },
  {
   "cell_type": "code",
   "execution_count": 131,
   "id": "6bad104c",
   "metadata": {},
   "outputs": [
    {
     "name": "stdout",
     "output_type": "stream",
     "text": [
      "    ENG  NEP  MAT  SCI  COM Students\n",
      "1    57   34   93   84   54      RAM\n",
      "2    48   49   52   89   64    SHYAM\n",
      "3    66   64   75   38   84     GITA\n",
      "4    55   47   90   82   37     HARI\n",
      "5    45   93   70   53   76     SITA\n",
      "6    45   63   33   53   72  SUSHILA\n",
      "7    68   34   42   43   84   RAMESH\n",
      "8    62   69   67   50   94   SUBODH\n",
      "9    59   33   51   68   33     ANIL\n",
      "10   57   91   60   37   44     RUPA\n"
     ]
    }
   ],
   "source": [
    "import pandas as pd\n",
    "\n",
    "# Given data\n",
    "serial_no = [1, 2, 3, 4, 5, 6, 7, 8, 9, 10]\n",
    "subjects = ['ENG', 'NEP', 'MAT', 'SCI', 'COM']\n",
    "students = ['RAM','SHYAM','GITA','HARI','SITA','SUSHILA','RAMESH','SUBODH','ANIL','RUPA']\n",
    "marks = [\n",
    "    [57, 34, 93, 84, 54], [48, 49, 52, 89, 64], [66, 64, 75, 38, 84],\n",
    "    [55, 47, 90, 82, 37], [45, 93, 70, 53, 76], [45, 63, 33, 53, 72],\n",
    "    [68, 34, 42, 43, 84], [62, 69, 67, 50, 94], [59, 33, 51, 68, 33],\n",
    "    [57, 91, 60, 37, 44]\n",
    "]\n",
    "\n",
    "# Creating the DataFrame\n",
    "df_ = pd.DataFrame(marks, index=serial_no, columns=subjects)\n",
    "\n",
    "df_['Students'] = students\n",
    "\n",
    "print(df_)"
   ]
  },
  {
   "cell_type": "code",
   "execution_count": 133,
   "id": "ac297e31",
   "metadata": {},
   "outputs": [],
   "source": [
    "cols = ['Students'] + [col for col in df_ if col != 'Students']"
   ]
  },
  {
   "cell_type": "code",
   "execution_count": 135,
   "id": "9c5a6d4b",
   "metadata": {},
   "outputs": [],
   "source": [
    "df_=df_[cols]"
   ]
  },
  {
   "cell_type": "code",
   "execution_count": 136,
   "id": "542f4456",
   "metadata": {},
   "outputs": [
    {
     "data": {
      "text/html": [
       "<div>\n",
       "<style scoped>\n",
       "    .dataframe tbody tr th:only-of-type {\n",
       "        vertical-align: middle;\n",
       "    }\n",
       "\n",
       "    .dataframe tbody tr th {\n",
       "        vertical-align: top;\n",
       "    }\n",
       "\n",
       "    .dataframe thead th {\n",
       "        text-align: right;\n",
       "    }\n",
       "</style>\n",
       "<table border=\"1\" class=\"dataframe\">\n",
       "  <thead>\n",
       "    <tr style=\"text-align: right;\">\n",
       "      <th></th>\n",
       "      <th>Students</th>\n",
       "      <th>ENG</th>\n",
       "      <th>NEP</th>\n",
       "      <th>MAT</th>\n",
       "      <th>SCI</th>\n",
       "      <th>COM</th>\n",
       "    </tr>\n",
       "  </thead>\n",
       "  <tbody>\n",
       "    <tr>\n",
       "      <th>1</th>\n",
       "      <td>RAM</td>\n",
       "      <td>57</td>\n",
       "      <td>34</td>\n",
       "      <td>93</td>\n",
       "      <td>84</td>\n",
       "      <td>54</td>\n",
       "    </tr>\n",
       "    <tr>\n",
       "      <th>2</th>\n",
       "      <td>SHYAM</td>\n",
       "      <td>48</td>\n",
       "      <td>49</td>\n",
       "      <td>52</td>\n",
       "      <td>89</td>\n",
       "      <td>64</td>\n",
       "    </tr>\n",
       "    <tr>\n",
       "      <th>3</th>\n",
       "      <td>GITA</td>\n",
       "      <td>66</td>\n",
       "      <td>64</td>\n",
       "      <td>75</td>\n",
       "      <td>38</td>\n",
       "      <td>84</td>\n",
       "    </tr>\n",
       "    <tr>\n",
       "      <th>4</th>\n",
       "      <td>HARI</td>\n",
       "      <td>55</td>\n",
       "      <td>47</td>\n",
       "      <td>90</td>\n",
       "      <td>82</td>\n",
       "      <td>37</td>\n",
       "    </tr>\n",
       "    <tr>\n",
       "      <th>5</th>\n",
       "      <td>SITA</td>\n",
       "      <td>45</td>\n",
       "      <td>93</td>\n",
       "      <td>70</td>\n",
       "      <td>53</td>\n",
       "      <td>76</td>\n",
       "    </tr>\n",
       "    <tr>\n",
       "      <th>6</th>\n",
       "      <td>SUSHILA</td>\n",
       "      <td>45</td>\n",
       "      <td>63</td>\n",
       "      <td>33</td>\n",
       "      <td>53</td>\n",
       "      <td>72</td>\n",
       "    </tr>\n",
       "    <tr>\n",
       "      <th>7</th>\n",
       "      <td>RAMESH</td>\n",
       "      <td>68</td>\n",
       "      <td>34</td>\n",
       "      <td>42</td>\n",
       "      <td>43</td>\n",
       "      <td>84</td>\n",
       "    </tr>\n",
       "    <tr>\n",
       "      <th>8</th>\n",
       "      <td>SUBODH</td>\n",
       "      <td>62</td>\n",
       "      <td>69</td>\n",
       "      <td>67</td>\n",
       "      <td>50</td>\n",
       "      <td>94</td>\n",
       "    </tr>\n",
       "    <tr>\n",
       "      <th>9</th>\n",
       "      <td>ANIL</td>\n",
       "      <td>59</td>\n",
       "      <td>33</td>\n",
       "      <td>51</td>\n",
       "      <td>68</td>\n",
       "      <td>33</td>\n",
       "    </tr>\n",
       "    <tr>\n",
       "      <th>10</th>\n",
       "      <td>RUPA</td>\n",
       "      <td>57</td>\n",
       "      <td>91</td>\n",
       "      <td>60</td>\n",
       "      <td>37</td>\n",
       "      <td>44</td>\n",
       "    </tr>\n",
       "  </tbody>\n",
       "</table>\n",
       "</div>"
      ],
      "text/plain": [
       "   Students  ENG  NEP  MAT  SCI  COM\n",
       "1       RAM   57   34   93   84   54\n",
       "2     SHYAM   48   49   52   89   64\n",
       "3      GITA   66   64   75   38   84\n",
       "4      HARI   55   47   90   82   37\n",
       "5      SITA   45   93   70   53   76\n",
       "6   SUSHILA   45   63   33   53   72\n",
       "7    RAMESH   68   34   42   43   84\n",
       "8    SUBODH   62   69   67   50   94\n",
       "9      ANIL   59   33   51   68   33\n",
       "10     RUPA   57   91   60   37   44"
      ]
     },
     "execution_count": 136,
     "metadata": {},
     "output_type": "execute_result"
    }
   ],
   "source": [
    "df_"
   ]
  },
  {
   "cell_type": "code",
   "execution_count": 140,
   "id": "b83f06bd",
   "metadata": {},
   "outputs": [
    {
     "data": {
      "text/html": [
       "<div>\n",
       "<style scoped>\n",
       "    .dataframe tbody tr th:only-of-type {\n",
       "        vertical-align: middle;\n",
       "    }\n",
       "\n",
       "    .dataframe tbody tr th {\n",
       "        vertical-align: top;\n",
       "    }\n",
       "\n",
       "    .dataframe thead th {\n",
       "        text-align: right;\n",
       "    }\n",
       "</style>\n",
       "<table border=\"1\" class=\"dataframe\">\n",
       "  <thead>\n",
       "    <tr style=\"text-align: right;\">\n",
       "      <th></th>\n",
       "      <th>Students</th>\n",
       "      <th>ENG</th>\n",
       "      <th>NEP</th>\n",
       "      <th>MAT</th>\n",
       "      <th>SCI</th>\n",
       "      <th>COM</th>\n",
       "    </tr>\n",
       "  </thead>\n",
       "  <tbody>\n",
       "    <tr>\n",
       "      <th>2</th>\n",
       "      <td>SHYAM</td>\n",
       "      <td>48</td>\n",
       "      <td>49</td>\n",
       "      <td>52</td>\n",
       "      <td>89</td>\n",
       "      <td>64</td>\n",
       "    </tr>\n",
       "    <tr>\n",
       "      <th>3</th>\n",
       "      <td>GITA</td>\n",
       "      <td>66</td>\n",
       "      <td>64</td>\n",
       "      <td>75</td>\n",
       "      <td>38</td>\n",
       "      <td>84</td>\n",
       "    </tr>\n",
       "    <tr>\n",
       "      <th>4</th>\n",
       "      <td>HARI</td>\n",
       "      <td>55</td>\n",
       "      <td>47</td>\n",
       "      <td>90</td>\n",
       "      <td>82</td>\n",
       "      <td>37</td>\n",
       "    </tr>\n",
       "    <tr>\n",
       "      <th>5</th>\n",
       "      <td>SITA</td>\n",
       "      <td>45</td>\n",
       "      <td>93</td>\n",
       "      <td>70</td>\n",
       "      <td>53</td>\n",
       "      <td>76</td>\n",
       "    </tr>\n",
       "    <tr>\n",
       "      <th>6</th>\n",
       "      <td>SUSHILA</td>\n",
       "      <td>45</td>\n",
       "      <td>63</td>\n",
       "      <td>33</td>\n",
       "      <td>53</td>\n",
       "      <td>72</td>\n",
       "    </tr>\n",
       "    <tr>\n",
       "      <th>8</th>\n",
       "      <td>SUBODH</td>\n",
       "      <td>62</td>\n",
       "      <td>69</td>\n",
       "      <td>67</td>\n",
       "      <td>50</td>\n",
       "      <td>94</td>\n",
       "    </tr>\n",
       "    <tr>\n",
       "      <th>10</th>\n",
       "      <td>RUPA</td>\n",
       "      <td>57</td>\n",
       "      <td>91</td>\n",
       "      <td>60</td>\n",
       "      <td>37</td>\n",
       "      <td>44</td>\n",
       "    </tr>\n",
       "  </tbody>\n",
       "</table>\n",
       "</div>"
      ],
      "text/plain": [
       "   Students  ENG  NEP  MAT  SCI  COM\n",
       "2     SHYAM   48   49   52   89   64\n",
       "3      GITA   66   64   75   38   84\n",
       "4      HARI   55   47   90   82   37\n",
       "5      SITA   45   93   70   53   76\n",
       "6   SUSHILA   45   63   33   53   72\n",
       "8    SUBODH   62   69   67   50   94\n",
       "10     RUPA   57   91   60   37   44"
      ]
     },
     "execution_count": 140,
     "metadata": {},
     "output_type": "execute_result"
    }
   ],
   "source": [
    "df_[df_['NEP']>40]  #who passed in nepali subject"
   ]
  },
  {
   "cell_type": "code",
   "execution_count": 143,
   "id": "076d8a32",
   "metadata": {},
   "outputs": [
    {
     "data": {
      "text/html": [
       "<div>\n",
       "<style scoped>\n",
       "    .dataframe tbody tr th:only-of-type {\n",
       "        vertical-align: middle;\n",
       "    }\n",
       "\n",
       "    .dataframe tbody tr th {\n",
       "        vertical-align: top;\n",
       "    }\n",
       "\n",
       "    .dataframe thead th {\n",
       "        text-align: right;\n",
       "    }\n",
       "</style>\n",
       "<table border=\"1\" class=\"dataframe\">\n",
       "  <thead>\n",
       "    <tr style=\"text-align: right;\">\n",
       "      <th></th>\n",
       "      <th>Students</th>\n",
       "      <th>ENG</th>\n",
       "      <th>NEP</th>\n",
       "      <th>MAT</th>\n",
       "      <th>SCI</th>\n",
       "      <th>COM</th>\n",
       "    </tr>\n",
       "  </thead>\n",
       "  <tbody>\n",
       "    <tr>\n",
       "      <th>1</th>\n",
       "      <td>RAM</td>\n",
       "      <td>57</td>\n",
       "      <td>34</td>\n",
       "      <td>93</td>\n",
       "      <td>84</td>\n",
       "      <td>54</td>\n",
       "    </tr>\n",
       "    <tr>\n",
       "      <th>2</th>\n",
       "      <td>SHYAM</td>\n",
       "      <td>48</td>\n",
       "      <td>49</td>\n",
       "      <td>52</td>\n",
       "      <td>89</td>\n",
       "      <td>64</td>\n",
       "    </tr>\n",
       "    <tr>\n",
       "      <th>4</th>\n",
       "      <td>HARI</td>\n",
       "      <td>55</td>\n",
       "      <td>47</td>\n",
       "      <td>90</td>\n",
       "      <td>82</td>\n",
       "      <td>37</td>\n",
       "    </tr>\n",
       "  </tbody>\n",
       "</table>\n",
       "</div>"
      ],
      "text/plain": [
       "  Students  ENG  NEP  MAT  SCI  COM\n",
       "1      RAM   57   34   93   84   54\n",
       "2    SHYAM   48   49   52   89   64\n",
       "4     HARI   55   47   90   82   37"
      ]
     },
     "execution_count": 143,
     "metadata": {},
     "output_type": "execute_result"
    }
   ],
   "source": [
    "df_[df_['SCI']>70]   #who got first division in science( let first division be marks above 70)"
   ]
  },
  {
   "cell_type": "code",
   "execution_count": null,
   "id": "6f976885",
   "metadata": {},
   "outputs": [],
   "source": []
  }
 ],
 "metadata": {
  "kernelspec": {
   "display_name": "Python 3 (ipykernel)",
   "language": "python",
   "name": "python3"
  },
  "language_info": {
   "codemirror_mode": {
    "name": "ipython",
    "version": 3
   },
   "file_extension": ".py",
   "mimetype": "text/x-python",
   "name": "python",
   "nbconvert_exporter": "python",
   "pygments_lexer": "ipython3",
   "version": "3.11.5"
  }
 },
 "nbformat": 4,
 "nbformat_minor": 5
}
